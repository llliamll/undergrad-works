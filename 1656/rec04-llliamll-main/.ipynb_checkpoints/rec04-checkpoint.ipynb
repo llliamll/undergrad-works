{
 "cells": [
  {
   "cell_type": "markdown",
   "metadata": {},
   "source": [
    "# CS 1656 – Introduction to Data Science \n",
    "\n",
    "## Instructor: Alexandros Labrinidis\n",
    "## Teaching Assistants: Evangelos Karageorgos, Xiaoting Li, Gordon Lu\n",
    "### Additional credits: Xiaoting Li, Tahereh Arabghalizi, Zuha Agha, Anatoli Shein, Phuong Pham\n",
    "## Recitation : SQL via Data API\n",
    "---\n",
    "In this recitation, you will execute SQL queries on real data by connecting to the open data portal of [Western Pennsylavnia Regional Data Center](https://www.wprdc.org/) and requesting data via API calls.  "
   ]
  },
  {
   "cell_type": "code",
   "execution_count": 1,
   "metadata": {},
   "outputs": [],
   "source": [
    "import json\n",
    "from datetime import datetime, timedelta, date\n",
    "import requests\n",
    "import pandas as pd\n",
    "import matplotlib.pyplot as plt\n",
    "\n",
    "%matplotlib inline"
   ]
  },
  {
   "cell_type": "markdown",
   "metadata": {},
   "source": [
    "We will be using Allegheny County Restaurant/Food Facility Inspection Violation Dataset found here https://data.wprdc.org/dataset/allegheny-county-restaurant-food-facility-inspection-violations. This dataset contains violation data from actual routine inspections by one of health department staff's members for the last two years. It should be fun to find out inspection results for places where we eat in Pittsburgh! =)"
   ]
  },
  {
   "cell_type": "code",
   "execution_count": 2,
   "metadata": {},
   "outputs": [
    {
     "name": "stderr",
     "output_type": "stream",
     "text": [
      "/Users/liam/opt/anaconda3/lib/python3.8/site-packages/urllib3/connectionpool.py:979: InsecureRequestWarning: Unverified HTTPS request is being made to host 'data.wprdc.org'. Adding certificate verification is strongly advised. See: https://urllib3.readthedocs.io/en/latest/advanced-usage.html#ssl-warnings\n",
      "  warnings.warn(\n"
     ]
    },
    {
     "name": "stdout",
     "output_type": "stream",
     "text": [
      "19234 rows total\n",
      "Index(['inspect_dt', 'rating', 'bus_st_date', 'high', 'street', 'id',\n",
      "       'municipal', 'city', 'zip', 'state', 'low', 'facility_name', 'medium',\n",
      "       'description', 'start_time', 'placard_st', 'description_new',\n",
      "       'encounter', 'url', '_full_text', 'num', 'end_time', '_id'],\n",
      "      dtype='object')\n"
     ]
    },
    {
     "data": {
      "text/html": [
       "<div>\n",
       "<style scoped>\n",
       "    .dataframe tbody tr th:only-of-type {\n",
       "        vertical-align: middle;\n",
       "    }\n",
       "\n",
       "    .dataframe tbody tr th {\n",
       "        vertical-align: top;\n",
       "    }\n",
       "\n",
       "    .dataframe thead th {\n",
       "        text-align: right;\n",
       "    }\n",
       "</style>\n",
       "<table border=\"1\" class=\"dataframe\">\n",
       "  <thead>\n",
       "    <tr style=\"text-align: right;\">\n",
       "      <th></th>\n",
       "      <th>inspect_dt</th>\n",
       "      <th>rating</th>\n",
       "      <th>bus_st_date</th>\n",
       "      <th>high</th>\n",
       "      <th>street</th>\n",
       "      <th>id</th>\n",
       "      <th>municipal</th>\n",
       "      <th>city</th>\n",
       "      <th>zip</th>\n",
       "      <th>state</th>\n",
       "      <th>...</th>\n",
       "      <th>description</th>\n",
       "      <th>start_time</th>\n",
       "      <th>placard_st</th>\n",
       "      <th>description_new</th>\n",
       "      <th>encounter</th>\n",
       "      <th>url</th>\n",
       "      <th>_full_text</th>\n",
       "      <th>num</th>\n",
       "      <th>end_time</th>\n",
       "      <th>_id</th>\n",
       "    </tr>\n",
       "  </thead>\n",
       "  <tbody>\n",
       "    <tr>\n",
       "      <th>0</th>\n",
       "      <td>2018-12-14</td>\n",
       "      <td>V</td>\n",
       "      <td>1984-06-17</td>\n",
       "      <td>None</td>\n",
       "      <td>Forward  Avenue</td>\n",
       "      <td>10648</td>\n",
       "      <td>Pittsburgh-114</td>\n",
       "      <td>Pittsburgh</td>\n",
       "      <td>15217</td>\n",
       "      <td>PA</td>\n",
       "      <td>...</td>\n",
       "      <td>Banquet Hall</td>\n",
       "      <td>15:35:00</td>\n",
       "      <td>1</td>\n",
       "      <td>Ventilation</td>\n",
       "      <td>201812140029</td>\n",
       "      <td>http://appsrv.alleghenycounty.us/reports/rwser...</td>\n",
       "      <td>'-06':7 '-114':28 '-12':19 '-14':20 '-17':8 '/...</td>\n",
       "      <td>6886</td>\n",
       "      <td>16:25:00</td>\n",
       "      <td>190342</td>\n",
       "    </tr>\n",
       "    <tr>\n",
       "      <th>1</th>\n",
       "      <td>2018-10-23</td>\n",
       "      <td>V</td>\n",
       "      <td>1995-03-23</td>\n",
       "      <td>T</td>\n",
       "      <td>Penn Avenue</td>\n",
       "      <td>53261</td>\n",
       "      <td>Pittsburgh-102</td>\n",
       "      <td>Pittsburgh</td>\n",
       "      <td>15222</td>\n",
       "      <td>PA</td>\n",
       "      <td>...</td>\n",
       "      <td>Bakery</td>\n",
       "      <td>12:25:00</td>\n",
       "      <td>1</td>\n",
       "      <td>Pest Management</td>\n",
       "      <td>201810230025</td>\n",
       "      <td>http://appsrv.alleghenycounty.us/reports/rwser...</td>\n",
       "      <td>'-03':7 '-10':19 '-102':28 '-23':8,20 '/report...</td>\n",
       "      <td>2022</td>\n",
       "      <td>13:10:00</td>\n",
       "      <td>191854</td>\n",
       "    </tr>\n",
       "    <tr>\n",
       "      <th>2</th>\n",
       "      <td>2018-10-24</td>\n",
       "      <td>V</td>\n",
       "      <td>2004-06-02</td>\n",
       "      <td>None</td>\n",
       "      <td>Alpha Drive</td>\n",
       "      <td>200406040006</td>\n",
       "      <td>O'Hara</td>\n",
       "      <td>Pittsburgh</td>\n",
       "      <td>15238</td>\n",
       "      <td>PA</td>\n",
       "      <td>...</td>\n",
       "      <td>Food Processor</td>\n",
       "      <td>13:20:00</td>\n",
       "      <td>1</td>\n",
       "      <td>Floors</td>\n",
       "      <td>201810240046</td>\n",
       "      <td>http://appsrv.alleghenycounty.us/reports/rwser...</td>\n",
       "      <td>'-02':10 '-06':9 '-10':21 '-24':22 '/reports/r...</td>\n",
       "      <td>610</td>\n",
       "      <td>15:25:00</td>\n",
       "      <td>191998</td>\n",
       "    </tr>\n",
       "    <tr>\n",
       "      <th>3</th>\n",
       "      <td>2018-09-04</td>\n",
       "      <td>V</td>\n",
       "      <td>2015-01-01</td>\n",
       "      <td>F</td>\n",
       "      <td>Brownsville Road</td>\n",
       "      <td>201503240002</td>\n",
       "      <td>South Park</td>\n",
       "      <td>Pittsburgh</td>\n",
       "      <td>15236</td>\n",
       "      <td>PA</td>\n",
       "      <td>...</td>\n",
       "      <td>Restaurant with Liquor</td>\n",
       "      <td>15:50:00</td>\n",
       "      <td>1</td>\n",
       "      <td>Probe-Type Thermometers</td>\n",
       "      <td>201809040051</td>\n",
       "      <td>http://appsrv.alleghenycounty.us/reports/rwser...</td>\n",
       "      <td>'-01':7,8 '-04':24 '-09':23 '/reports/rwservle...</td>\n",
       "      <td>5836</td>\n",
       "      <td>16:40:00</td>\n",
       "      <td>169849</td>\n",
       "    </tr>\n",
       "    <tr>\n",
       "      <th>4</th>\n",
       "      <td>2018-09-04</td>\n",
       "      <td>V</td>\n",
       "      <td>2015-01-01</td>\n",
       "      <td>F</td>\n",
       "      <td>Brownsville Road</td>\n",
       "      <td>201503240002</td>\n",
       "      <td>South Park</td>\n",
       "      <td>Pittsburgh</td>\n",
       "      <td>15236</td>\n",
       "      <td>PA</td>\n",
       "      <td>...</td>\n",
       "      <td>Restaurant with Liquor</td>\n",
       "      <td>15:50:00</td>\n",
       "      <td>1</td>\n",
       "      <td>Cleaning and Sanitization</td>\n",
       "      <td>201809040051</td>\n",
       "      <td>http://appsrv.alleghenycounty.us/reports/rwser...</td>\n",
       "      <td>'-01':7,8 '-04':23 '-09':22 '/reports/rwservle...</td>\n",
       "      <td>5836</td>\n",
       "      <td>16:40:00</td>\n",
       "      <td>169850</td>\n",
       "    </tr>\n",
       "  </tbody>\n",
       "</table>\n",
       "<p>5 rows × 23 columns</p>\n",
       "</div>"
      ],
      "text/plain": [
       "   inspect_dt rating bus_st_date  high            street            id  \\\n",
       "0  2018-12-14      V  1984-06-17  None   Forward  Avenue         10648   \n",
       "1  2018-10-23      V  1995-03-23     T       Penn Avenue         53261   \n",
       "2  2018-10-24      V  2004-06-02  None       Alpha Drive  200406040006   \n",
       "3  2018-09-04      V  2015-01-01     F  Brownsville Road  201503240002   \n",
       "4  2018-09-04      V  2015-01-01     F  Brownsville Road  201503240002   \n",
       "\n",
       "        municipal        city    zip state  ...             description  \\\n",
       "0  Pittsburgh-114  Pittsburgh  15217    PA  ...            Banquet Hall   \n",
       "1  Pittsburgh-102  Pittsburgh  15222    PA  ...                  Bakery   \n",
       "2          O'Hara  Pittsburgh  15238    PA  ...          Food Processor   \n",
       "3      South Park  Pittsburgh  15236    PA  ...  Restaurant with Liquor   \n",
       "4      South Park  Pittsburgh  15236    PA  ...  Restaurant with Liquor   \n",
       "\n",
       "  start_time placard_st            description_new     encounter  \\\n",
       "0   15:35:00          1                Ventilation  201812140029   \n",
       "1   12:25:00          1            Pest Management  201810230025   \n",
       "2   13:20:00          1                     Floors  201810240046   \n",
       "3   15:50:00          1    Probe-Type Thermometers  201809040051   \n",
       "4   15:50:00          1  Cleaning and Sanitization  201809040051   \n",
       "\n",
       "                                                 url  \\\n",
       "0  http://appsrv.alleghenycounty.us/reports/rwser...   \n",
       "1  http://appsrv.alleghenycounty.us/reports/rwser...   \n",
       "2  http://appsrv.alleghenycounty.us/reports/rwser...   \n",
       "3  http://appsrv.alleghenycounty.us/reports/rwser...   \n",
       "4  http://appsrv.alleghenycounty.us/reports/rwser...   \n",
       "\n",
       "                                          _full_text   num  end_time     _id  \n",
       "0  '-06':7 '-114':28 '-12':19 '-14':20 '-17':8 '/...  6886  16:25:00  190342  \n",
       "1  '-03':7 '-10':19 '-102':28 '-23':8,20 '/report...  2022  13:10:00  191854  \n",
       "2  '-02':10 '-06':9 '-10':21 '-24':22 '/reports/r...   610  15:25:00  191998  \n",
       "3  '-01':7,8 '-04':24 '-09':23 '/reports/rwservle...  5836  16:40:00  169849  \n",
       "4  '-01':7,8 '-04':23 '-09':22 '/reports/rwservle...  5836  16:40:00  169850  \n",
       "\n",
       "[5 rows x 23 columns]"
      ]
     },
     "execution_count": 2,
     "metadata": {},
     "output_type": "execute_result"
    }
   ],
   "source": [
    "wprdc_api_endpoint = \"https://data.wprdc.org/api/3/action/datastore_search_sql\"\n",
    "\n",
    "# id for database table\n",
    "resource_id = \"1a1329e2-418c-4bd3-af2c-cc334e7559af\"\n",
    "\n",
    "# Get the date from 270 days ago)\n",
    "# end_date = datetime.now()\n",
    "# start_date = end_date - timedelta(days=270)\n",
    "\n",
    "# Get two date endpoints\n",
    "start_date = date(2018, 9, 1)\n",
    "end_date = date(2019, 6, 1)\n",
    "\n",
    "# Convert to a string the format the the data center accepts (yyyy-mm-dd)\n",
    "start_str = start_date.strftime(\"%Y-%m-%d\")\n",
    "end_str = end_date.strftime(\"%Y-%m-%d\")\n",
    "\n",
    "# SQL query we'll use in API call to request data\n",
    "query = \"\"\"\n",
    "SELECT *\n",
    "FROM \"{}\"\n",
    "WHERE \"inspect_dt\" BETWEEN '{}' and '{}' AND \"city\" = '{}'\"\"\".format(resource_id, start_str, end_str, \"Pittsburgh\")\n",
    "\n",
    "# Make WPRDC API Call\n",
    "response = requests.get(wprdc_api_endpoint, {'sql': query}, verify=False)\n",
    "\n",
    "# Parse response JSON into python dictionary\n",
    "response_data = json.loads(response.text)\n",
    "\n",
    "# Convert dictionary to dataframe\n",
    "df = pd.DataFrame.from_dict(response_data['result']['records'])\n",
    "\n",
    "# Print the number of rows\n",
    "print(df.shape[0], \"rows total\")\n",
    "print(df.columns)\n",
    "df.head()\n"
   ]
  },
  {
   "cell_type": "markdown",
   "metadata": {},
   "source": [
    "Details of dataset attributes are below. ((Taken from https://data.wprdc.org/dataset/allegheny-county-restaurant-food-facility-inspection-violations/resource/1a1329e2-418c-4bd3-af2c-cc334e7559af)\n",
    "![title](attribs.png)"
   ]
  },
  {
   "cell_type": "markdown",
   "metadata": {},
   "source": [
    "## Queries\n",
    "\n",
    "__Q1) Find all unique decription categories of violation in Pittsburgh restaurants over the time span (violation description[violation]).__"
   ]
  },
  {
   "cell_type": "code",
   "execution_count": null,
   "metadata": {},
   "outputs": [],
   "source": [
    "query = \"\"\"\n",
    "SELECT DISTINCT \"description_new\" as violation\n",
    "FROM \"{}\"\n",
    "WHERE \"inspect_dt\" BETWEEN '{}' and '{}' AND \"city\" = '{}' \"\"\".format(resource_id, start_str, end_str, \"Pittsburgh\")\n",
    "\n",
    "response = requests.get(wprdc_api_endpoint, {'sql': query}, verify=False)\n",
    "\n",
    "df = pd.DataFrame.from_dict(json.loads(response.text)['result']['records'])\n",
    "\n",
    "df"
   ]
  },
  {
   "cell_type": "markdown",
   "metadata": {},
   "source": [
    "__Q2) Find restaurants in Pittsburgh with no violations in at least one decription category (facility name[facility], number of violations[count]).__"
   ]
  },
  {
   "cell_type": "code",
   "execution_count": null,
   "metadata": {
    "scrolled": false
   },
   "outputs": [],
   "source": [
    "query = \"\"\"\n",
    "SELECT \"facility_name\" as facility, COUNT(\"description_new\") as count\n",
    "FROM \"{}\"\n",
    "WHERE \"inspect_dt\" BETWEEN '{}' and '{}' AND \"city\" = '{}' AND \"rating\" <> '{}'\n",
    "GROUP BY \"facility_name\" \"\"\".format(resource_id, start_str, end_str, \"Pittsburgh\", \"V\")\n",
    "\n",
    "response = requests.get(wprdc_api_endpoint, {'sql': query}, verify=False)\n",
    "\n",
    "df = pd.DataFrame.from_dict(json.loads(response.text)['result']['records'])\n",
    "\n",
    "df"
   ]
  },
  {
   "cell_type": "markdown",
   "metadata": {},
   "source": [
    "### Tasks\n",
    "\n",
    "__Tasks 1 to 4 must be implemented in Task.py__\n",
    "\n",
    "__Task 5 must be implemented in the notebook__\n",
    "\n",
    "__T1) Find top 30 restaurants in Pittsburgh with maximum number of violations (facility name[facility], number of violations[count]).__"
   ]
  },
  {
   "cell_type": "code",
   "execution_count": null,
   "metadata": {
    "collapsed": true
   },
   "outputs": [],
   "source": []
  },
  {
   "cell_type": "markdown",
   "metadata": {},
   "source": [
    "Lets look more closely into the inspection results of Pitt facilities.\n",
    "\n",
    "__T2) Find the category descriptions and their high, medium, low risk ratings for all violations at facilities that start with 'Pitt' over the past nine months (facility name[facility], violation description[violation], rating[rating], high[high], medium[medium], low[low]).__"
   ]
  },
  {
   "cell_type": "code",
   "execution_count": null,
   "metadata": {
    "collapsed": true
   },
   "outputs": [],
   "source": []
  },
  {
   "cell_type": "markdown",
   "metadata": {},
   "source": [
    "Now lets look at all facilities that contain word 'Pitt'.\n",
    "\n",
    "__T3) Find the category descriptions and their high, medium, low risk ratings for all violations at all facilities that have word 'Pitt' in their name. Note that results that contain word 'Pitt' as part of another word (e.g. 'Pittsburgh') should not be included (facility name[facility], violation description[violation], rating[rating], high[high], medium[medium], low[low])__"
   ]
  },
  {
   "cell_type": "code",
   "execution_count": null,
   "metadata": {
    "collapsed": true
   },
   "outputs": [],
   "source": []
  },
  {
   "cell_type": "markdown",
   "metadata": {},
   "source": [
    "__T4) Find top 20 facilities that have word 'Pitt' in their name and have the highest counts of violations (facility name[facility], number of violations[count]).__"
   ]
  },
  {
   "cell_type": "code",
   "execution_count": null,
   "metadata": {
    "collapsed": true
   },
   "outputs": [],
   "source": []
  }
 ],
 "metadata": {
  "anaconda-cloud": {},
  "kernelspec": {
   "display_name": "Python 3",
   "language": "python",
   "name": "python3"
  },
  "language_info": {
   "codemirror_mode": {
    "name": "ipython",
    "version": 3
   },
   "file_extension": ".py",
   "mimetype": "text/x-python",
   "name": "python",
   "nbconvert_exporter": "python",
   "pygments_lexer": "ipython3",
   "version": "3.8.3"
  }
 },
 "nbformat": 4,
 "nbformat_minor": 1
}
