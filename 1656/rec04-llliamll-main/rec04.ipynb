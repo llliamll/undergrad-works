{
 "cells": [
  {
   "cell_type": "markdown",
   "metadata": {},
   "source": [
    "# CS 1656 – Introduction to Data Science \n",
    "\n",
    "## Instructor: Alexandros Labrinidis\n",
    "## Teaching Assistants: Evangelos Karageorgos, Xiaoting Li, Gordon Lu\n",
    "### Additional credits: Xiaoting Li, Tahereh Arabghalizi, Zuha Agha, Anatoli Shein, Phuong Pham\n",
    "## Recitation : SQL via Data API\n",
    "---\n",
    "In this recitation, you will execute SQL queries on real data by connecting to the open data portal of [Western Pennsylavnia Regional Data Center](https://www.wprdc.org/) and requesting data via API calls.  "
   ]
  },
  {
   "cell_type": "code",
   "execution_count": 1,
   "metadata": {},
   "outputs": [],
   "source": [
    "import json\n",
    "from datetime import datetime, timedelta, date\n",
    "import requests\n",
    "import pandas as pd\n",
    "import matplotlib.pyplot as plt\n",
    "\n",
    "%matplotlib inline"
   ]
  },
  {
   "cell_type": "markdown",
   "metadata": {},
   "source": [
    "We will be using Allegheny County Restaurant/Food Facility Inspection Violation Dataset found here https://data.wprdc.org/dataset/allegheny-county-restaurant-food-facility-inspection-violations. This dataset contains violation data from actual routine inspections by one of health department staff's members for the last two years. It should be fun to find out inspection results for places where we eat in Pittsburgh! =)"
   ]
  },
  {
   "cell_type": "code",
   "execution_count": 2,
   "metadata": {},
   "outputs": [
    {
     "name": "stderr",
     "output_type": "stream",
     "text": [
      "/Users/liam/opt/anaconda3/lib/python3.8/site-packages/urllib3/connectionpool.py:979: InsecureRequestWarning: Unverified HTTPS request is being made to host 'data.wprdc.org'. Adding certificate verification is strongly advised. See: https://urllib3.readthedocs.io/en/latest/advanced-usage.html#ssl-warnings\n",
      "  warnings.warn(\n"
     ]
    },
    {
     "name": "stdout",
     "output_type": "stream",
     "text": [
      "19234 rows total\n",
      "Index(['inspect_dt', 'rating', 'bus_st_date', 'high', 'street', 'id',\n",
      "       'municipal', 'city', 'zip', 'state', 'low', 'facility_name', 'medium',\n",
      "       'description', 'start_time', 'placard_st', 'description_new',\n",
      "       'encounter', 'url', '_full_text', 'num', 'end_time', '_id'],\n",
      "      dtype='object')\n"
     ]
    },
    {
     "data": {
      "text/plain": "   inspect_dt rating bus_st_date  high           street            id  \\\n0  2018-09-04      V  2017-03-29  None     Alpha  Drive  201704040001   \n1  2018-09-04      V  2009-11-04  None          Wood St  200911120004   \n2  2018-09-04      V  2005-09-26     F  Rochester  Road  200510120001   \n3  2018-09-04      V  2005-09-26     F  Rochester  Road  200510120001   \n4  2018-09-04      V  2005-09-26     F  Rochester  Road  200510120001   \n\n     municipal        city    zip state  ...                description  \\\n0       O'Hara  Pittsburgh  15238    PA  ...             Food Processor   \n1  Wilkinsburg  Pittsburgh  15221    PA  ...  Restaurant without Liquor   \n2         Ross  Pittsburgh  15229    PA  ...          Chain Supermarket   \n3         Ross  Pittsburgh  15229    PA  ...          Chain Supermarket   \n4         Ross  Pittsburgh  15229    PA  ...          Chain Supermarket   \n\n  start_time placard_st                                    description_new  \\\n0   14:10:00          1                                             Floors   \n1   14:00:00          1                                             Floors   \n2   13:15:00          1                          Cleaning and Sanitization   \n3   13:15:00          1                             Handwashing Facilities   \n4   13:15:00          1  Fabrication, Design, Installation and Maintenance   \n\n      encounter                                                url  \\\n0  201809040053  http://appsrv.alleghenycounty.us/reports/rwser...   \n1  201809040043  http://appsrv.alleghenycounty.us/reports/rwser...   \n2  201809040038  http://appsrv.alleghenycounty.us/reports/rwser...   \n3  201809040038  http://appsrv.alleghenycounty.us/reports/rwser...   \n4  201809040038  http://appsrv.alleghenycounty.us/reports/rwser...   \n\n                                          _full_text  num  end_time     _id  \n0  '-03':9 '-04':22 '-09':21 '-29':10 '/reports/r...  615  15:30:00  176362  \n1  '-04':10,23 '-09':22 '-11':9 '/reports/rwservl...  902  16:00:00  160958  \n2  '-04':24 '-09':9,23 '-26':10 '/reports/rwservl...  184  15:35:00  160935  \n3  '-04':23 '-09':9,22 '-26':10 '/reports/rwservl...  184  15:35:00  160936  \n4  '-04':26 '-09':9,25 '-26':10 '/reports/rwservl...  184  15:35:00  160937  \n\n[5 rows x 23 columns]",
      "text/html": "<div>\n<style scoped>\n    .dataframe tbody tr th:only-of-type {\n        vertical-align: middle;\n    }\n\n    .dataframe tbody tr th {\n        vertical-align: top;\n    }\n\n    .dataframe thead th {\n        text-align: right;\n    }\n</style>\n<table border=\"1\" class=\"dataframe\">\n  <thead>\n    <tr style=\"text-align: right;\">\n      <th></th>\n      <th>inspect_dt</th>\n      <th>rating</th>\n      <th>bus_st_date</th>\n      <th>high</th>\n      <th>street</th>\n      <th>id</th>\n      <th>municipal</th>\n      <th>city</th>\n      <th>zip</th>\n      <th>state</th>\n      <th>...</th>\n      <th>description</th>\n      <th>start_time</th>\n      <th>placard_st</th>\n      <th>description_new</th>\n      <th>encounter</th>\n      <th>url</th>\n      <th>_full_text</th>\n      <th>num</th>\n      <th>end_time</th>\n      <th>_id</th>\n    </tr>\n  </thead>\n  <tbody>\n    <tr>\n      <th>0</th>\n      <td>2018-09-04</td>\n      <td>V</td>\n      <td>2017-03-29</td>\n      <td>None</td>\n      <td>Alpha  Drive</td>\n      <td>201704040001</td>\n      <td>O'Hara</td>\n      <td>Pittsburgh</td>\n      <td>15238</td>\n      <td>PA</td>\n      <td>...</td>\n      <td>Food Processor</td>\n      <td>14:10:00</td>\n      <td>1</td>\n      <td>Floors</td>\n      <td>201809040053</td>\n      <td>http://appsrv.alleghenycounty.us/reports/rwser...</td>\n      <td>'-03':9 '-04':22 '-09':21 '-29':10 '/reports/r...</td>\n      <td>615</td>\n      <td>15:30:00</td>\n      <td>176362</td>\n    </tr>\n    <tr>\n      <th>1</th>\n      <td>2018-09-04</td>\n      <td>V</td>\n      <td>2009-11-04</td>\n      <td>None</td>\n      <td>Wood St</td>\n      <td>200911120004</td>\n      <td>Wilkinsburg</td>\n      <td>Pittsburgh</td>\n      <td>15221</td>\n      <td>PA</td>\n      <td>...</td>\n      <td>Restaurant without Liquor</td>\n      <td>14:00:00</td>\n      <td>1</td>\n      <td>Floors</td>\n      <td>201809040043</td>\n      <td>http://appsrv.alleghenycounty.us/reports/rwser...</td>\n      <td>'-04':10,23 '-09':22 '-11':9 '/reports/rwservl...</td>\n      <td>902</td>\n      <td>16:00:00</td>\n      <td>160958</td>\n    </tr>\n    <tr>\n      <th>2</th>\n      <td>2018-09-04</td>\n      <td>V</td>\n      <td>2005-09-26</td>\n      <td>F</td>\n      <td>Rochester  Road</td>\n      <td>200510120001</td>\n      <td>Ross</td>\n      <td>Pittsburgh</td>\n      <td>15229</td>\n      <td>PA</td>\n      <td>...</td>\n      <td>Chain Supermarket</td>\n      <td>13:15:00</td>\n      <td>1</td>\n      <td>Cleaning and Sanitization</td>\n      <td>201809040038</td>\n      <td>http://appsrv.alleghenycounty.us/reports/rwser...</td>\n      <td>'-04':24 '-09':9,23 '-26':10 '/reports/rwservl...</td>\n      <td>184</td>\n      <td>15:35:00</td>\n      <td>160935</td>\n    </tr>\n    <tr>\n      <th>3</th>\n      <td>2018-09-04</td>\n      <td>V</td>\n      <td>2005-09-26</td>\n      <td>F</td>\n      <td>Rochester  Road</td>\n      <td>200510120001</td>\n      <td>Ross</td>\n      <td>Pittsburgh</td>\n      <td>15229</td>\n      <td>PA</td>\n      <td>...</td>\n      <td>Chain Supermarket</td>\n      <td>13:15:00</td>\n      <td>1</td>\n      <td>Handwashing Facilities</td>\n      <td>201809040038</td>\n      <td>http://appsrv.alleghenycounty.us/reports/rwser...</td>\n      <td>'-04':23 '-09':9,22 '-26':10 '/reports/rwservl...</td>\n      <td>184</td>\n      <td>15:35:00</td>\n      <td>160936</td>\n    </tr>\n    <tr>\n      <th>4</th>\n      <td>2018-09-04</td>\n      <td>V</td>\n      <td>2005-09-26</td>\n      <td>F</td>\n      <td>Rochester  Road</td>\n      <td>200510120001</td>\n      <td>Ross</td>\n      <td>Pittsburgh</td>\n      <td>15229</td>\n      <td>PA</td>\n      <td>...</td>\n      <td>Chain Supermarket</td>\n      <td>13:15:00</td>\n      <td>1</td>\n      <td>Fabrication, Design, Installation and Maintenance</td>\n      <td>201809040038</td>\n      <td>http://appsrv.alleghenycounty.us/reports/rwser...</td>\n      <td>'-04':26 '-09':9,25 '-26':10 '/reports/rwservl...</td>\n      <td>184</td>\n      <td>15:35:00</td>\n      <td>160937</td>\n    </tr>\n  </tbody>\n</table>\n<p>5 rows × 23 columns</p>\n</div>"
     },
     "execution_count": 2,
     "metadata": {},
     "output_type": "execute_result"
    }
   ],
   "source": [
    "wprdc_api_endpoint = \"https://data.wprdc.org/api/3/action/datastore_search_sql\"\n",
    "\n",
    "# id for database table\n",
    "resource_id = \"1a1329e2-418c-4bd3-af2c-cc334e7559af\"\n",
    "\n",
    "# Get the date from 270 days ago)\n",
    "# end_date = datetime.now()\n",
    "# start_date = end_date - timedelta(days=270)\n",
    "\n",
    "# Get two date endpoints\n",
    "start_date = date(2018, 9, 1)\n",
    "end_date = date(2019, 6, 1)\n",
    "\n",
    "# Convert to a string the format the the data center accepts (yyyy-mm-dd)\n",
    "start_str = start_date.strftime(\"%Y-%m-%d\")\n",
    "end_str = end_date.strftime(\"%Y-%m-%d\")\n",
    "\n",
    "# SQL query we'll use in API call to request data\n",
    "query = \"\"\"\n",
    "SELECT *\n",
    "FROM \"{}\"\n",
    "WHERE \"inspect_dt\" BETWEEN '{}' and '{}' AND \"city\" = '{}'\"\"\".format(resource_id, start_str, end_str, \"Pittsburgh\")\n",
    "\n",
    "# Make WPRDC API Call\n",
    "response = requests.get(wprdc_api_endpoint, {'sql': query}, verify=False)\n",
    "\n",
    "# Parse response JSON into python dictionary\n",
    "response_data = json.loads(response.text)\n",
    "\n",
    "# Convert dictionary to dataframe\n",
    "df = pd.DataFrame.from_dict(response_data['result']['records'])\n",
    "\n",
    "# Print the number of rows\n",
    "print(df.shape[0], \"rows total\")\n",
    "print(df.columns)\n",
    "df.head()\n"
   ]
  },
  {
   "cell_type": "markdown",
   "metadata": {},
   "source": [
    "Details of dataset attributes are below. ((Taken from https://data.wprdc.org/dataset/allegheny-county-restaurant-food-facility-inspection-violations/resource/1a1329e2-418c-4bd3-af2c-cc334e7559af)\n",
    "![title](attribs.png)"
   ]
  },
  {
   "cell_type": "markdown",
   "metadata": {},
   "source": [
    "## Queries\n",
    "\n",
    "__Q1) Find all unique decription categories of violation in Pittsburgh restaurants over the time span (violation description[violation]).__"
   ]
  },
  {
   "cell_type": "code",
   "execution_count": 3,
   "metadata": {},
   "outputs": [
    {
     "name": "stderr",
     "output_type": "stream",
     "text": [
      "/Users/liam/opt/anaconda3/lib/python3.8/site-packages/urllib3/connectionpool.py:979: InsecureRequestWarning: Unverified HTTPS request is being made to host 'data.wprdc.org'. Adding certificate verification is strongly advised. See: https://urllib3.readthedocs.io/en/latest/advanced-usage.html#ssl-warnings\n",
      "  warnings.warn(\n"
     ]
    },
    {
     "data": {
      "text/plain": "                                            violation\n0                                    General Premises\n1                                            Lighting\n2                           Cold Holding Temperatures\n3                                         Toilet Room\n4                                   Consumer Advisory\n5                                  Garbage and Refuse\n6                                         Toxic Items\n7                           Cleaning and Sanitization\n8                          Demonstration of Knowledge\n9                              Reheating Temperatures\n10                 Facilities to Maintain Temperature\n11                  Certified Food Protection Manager\n12                                           Plumbing\n13                           Hot Holding Temperatures\n14                             Handwashing Facilities\n15  Fabrication, Design, Installation and Maintenance\n16                               Date Marking of Food\n17                               Waste Water Disposal\n18                                        Ventilation\n19                              Food Source/Condition\n20                                     Administrative\n21  Contamination Prevention - Food, Utensils and ...\n22                          Employee Personal Hygiene\n23                            Probe-Type Thermometers\n24                                 Walls and ceilings\n25                                       Cooling Food\n26                               Cooking Temperatures\n27                     Cross-Contamination Prevention\n28                                             Floors\n29                                    Pest Management\n30                                       Water Supply\n31                    Dressing rooms and Locker rooms",
      "text/html": "<div>\n<style scoped>\n    .dataframe tbody tr th:only-of-type {\n        vertical-align: middle;\n    }\n\n    .dataframe tbody tr th {\n        vertical-align: top;\n    }\n\n    .dataframe thead th {\n        text-align: right;\n    }\n</style>\n<table border=\"1\" class=\"dataframe\">\n  <thead>\n    <tr style=\"text-align: right;\">\n      <th></th>\n      <th>violation</th>\n    </tr>\n  </thead>\n  <tbody>\n    <tr>\n      <th>0</th>\n      <td>General Premises</td>\n    </tr>\n    <tr>\n      <th>1</th>\n      <td>Lighting</td>\n    </tr>\n    <tr>\n      <th>2</th>\n      <td>Cold Holding Temperatures</td>\n    </tr>\n    <tr>\n      <th>3</th>\n      <td>Toilet Room</td>\n    </tr>\n    <tr>\n      <th>4</th>\n      <td>Consumer Advisory</td>\n    </tr>\n    <tr>\n      <th>5</th>\n      <td>Garbage and Refuse</td>\n    </tr>\n    <tr>\n      <th>6</th>\n      <td>Toxic Items</td>\n    </tr>\n    <tr>\n      <th>7</th>\n      <td>Cleaning and Sanitization</td>\n    </tr>\n    <tr>\n      <th>8</th>\n      <td>Demonstration of Knowledge</td>\n    </tr>\n    <tr>\n      <th>9</th>\n      <td>Reheating Temperatures</td>\n    </tr>\n    <tr>\n      <th>10</th>\n      <td>Facilities to Maintain Temperature</td>\n    </tr>\n    <tr>\n      <th>11</th>\n      <td>Certified Food Protection Manager</td>\n    </tr>\n    <tr>\n      <th>12</th>\n      <td>Plumbing</td>\n    </tr>\n    <tr>\n      <th>13</th>\n      <td>Hot Holding Temperatures</td>\n    </tr>\n    <tr>\n      <th>14</th>\n      <td>Handwashing Facilities</td>\n    </tr>\n    <tr>\n      <th>15</th>\n      <td>Fabrication, Design, Installation and Maintenance</td>\n    </tr>\n    <tr>\n      <th>16</th>\n      <td>Date Marking of Food</td>\n    </tr>\n    <tr>\n      <th>17</th>\n      <td>Waste Water Disposal</td>\n    </tr>\n    <tr>\n      <th>18</th>\n      <td>Ventilation</td>\n    </tr>\n    <tr>\n      <th>19</th>\n      <td>Food Source/Condition</td>\n    </tr>\n    <tr>\n      <th>20</th>\n      <td>Administrative</td>\n    </tr>\n    <tr>\n      <th>21</th>\n      <td>Contamination Prevention - Food, Utensils and ...</td>\n    </tr>\n    <tr>\n      <th>22</th>\n      <td>Employee Personal Hygiene</td>\n    </tr>\n    <tr>\n      <th>23</th>\n      <td>Probe-Type Thermometers</td>\n    </tr>\n    <tr>\n      <th>24</th>\n      <td>Walls and ceilings</td>\n    </tr>\n    <tr>\n      <th>25</th>\n      <td>Cooling Food</td>\n    </tr>\n    <tr>\n      <th>26</th>\n      <td>Cooking Temperatures</td>\n    </tr>\n    <tr>\n      <th>27</th>\n      <td>Cross-Contamination Prevention</td>\n    </tr>\n    <tr>\n      <th>28</th>\n      <td>Floors</td>\n    </tr>\n    <tr>\n      <th>29</th>\n      <td>Pest Management</td>\n    </tr>\n    <tr>\n      <th>30</th>\n      <td>Water Supply</td>\n    </tr>\n    <tr>\n      <th>31</th>\n      <td>Dressing rooms and Locker rooms</td>\n    </tr>\n  </tbody>\n</table>\n</div>"
     },
     "execution_count": 3,
     "metadata": {},
     "output_type": "execute_result"
    }
   ],
   "source": [
    "query = \"\"\"\n",
    "SELECT DISTINCT \"description_new\" as violation\n",
    "FROM \"{}\"\n",
    "WHERE \"inspect_dt\" BETWEEN '{}' and '{}' AND \"city\" = '{}' \"\"\".format(resource_id, start_str, end_str, \"Pittsburgh\")\n",
    "\n",
    "response = requests.get(wprdc_api_endpoint, {'sql': query}, verify=False)\n",
    "\n",
    "df = pd.DataFrame.from_dict(json.loads(response.text)['result']['records'])\n",
    "\n",
    "df"
   ]
  },
  {
   "cell_type": "markdown",
   "metadata": {},
   "source": [
    "__Q2) Find restaurants in Pittsburgh with no violations in at least one decription category (facility name[facility], number of violations[count]).__"
   ]
  },
  {
   "cell_type": "code",
   "execution_count": 4,
   "metadata": {
    "scrolled": false
   },
   "outputs": [
    {
     "name": "stderr",
     "output_type": "stream",
     "text": [
      "/Users/liam/opt/anaconda3/lib/python3.8/site-packages/urllib3/connectionpool.py:979: InsecureRequestWarning: Unverified HTTPS request is being made to host 'data.wprdc.org'. Adding certificate verification is strongly advised. See: https://urllib3.readthedocs.io/en/latest/advanced-usage.html#ssl-warnings\n",
      "  warnings.warn(\n"
     ]
    },
    {
     "data": {
      "text/plain": "    count                               facility\n0       1          3 Lakes Golf Course 19th Hole\n1       1                            Apollo Cafe\n2       2            Atria's Restaurant & Tavern\n3       1                      Bae Bae's Kitchen\n4       1                 Barb's Country Kitchen\n..    ...                                    ...\n119     1                             TW Kitchen\n120     1  Wendy's Old Fashioned Hamburgers #521\n121     1           West View Firemen's Building\n122     1                      Wilson's Pharmacy\n123     1                            Wolfies Pub\n\n[124 rows x 2 columns]",
      "text/html": "<div>\n<style scoped>\n    .dataframe tbody tr th:only-of-type {\n        vertical-align: middle;\n    }\n\n    .dataframe tbody tr th {\n        vertical-align: top;\n    }\n\n    .dataframe thead th {\n        text-align: right;\n    }\n</style>\n<table border=\"1\" class=\"dataframe\">\n  <thead>\n    <tr style=\"text-align: right;\">\n      <th></th>\n      <th>count</th>\n      <th>facility</th>\n    </tr>\n  </thead>\n  <tbody>\n    <tr>\n      <th>0</th>\n      <td>1</td>\n      <td>3 Lakes Golf Course 19th Hole</td>\n    </tr>\n    <tr>\n      <th>1</th>\n      <td>1</td>\n      <td>Apollo Cafe</td>\n    </tr>\n    <tr>\n      <th>2</th>\n      <td>2</td>\n      <td>Atria's Restaurant &amp; Tavern</td>\n    </tr>\n    <tr>\n      <th>3</th>\n      <td>1</td>\n      <td>Bae Bae's Kitchen</td>\n    </tr>\n    <tr>\n      <th>4</th>\n      <td>1</td>\n      <td>Barb's Country Kitchen</td>\n    </tr>\n    <tr>\n      <th>...</th>\n      <td>...</td>\n      <td>...</td>\n    </tr>\n    <tr>\n      <th>119</th>\n      <td>1</td>\n      <td>TW Kitchen</td>\n    </tr>\n    <tr>\n      <th>120</th>\n      <td>1</td>\n      <td>Wendy's Old Fashioned Hamburgers #521</td>\n    </tr>\n    <tr>\n      <th>121</th>\n      <td>1</td>\n      <td>West View Firemen's Building</td>\n    </tr>\n    <tr>\n      <th>122</th>\n      <td>1</td>\n      <td>Wilson's Pharmacy</td>\n    </tr>\n    <tr>\n      <th>123</th>\n      <td>1</td>\n      <td>Wolfies Pub</td>\n    </tr>\n  </tbody>\n</table>\n<p>124 rows × 2 columns</p>\n</div>"
     },
     "execution_count": 4,
     "metadata": {},
     "output_type": "execute_result"
    }
   ],
   "source": [
    "query = \"\"\"\n",
    "SELECT \"facility_name\" as facility, COUNT(\"description_new\") as count\n",
    "FROM \"{}\"\n",
    "WHERE \"inspect_dt\" BETWEEN '{}' and '{}' AND \"city\" = '{}' AND \"rating\" <> '{}'\n",
    "GROUP BY \"facility_name\" \"\"\".format(resource_id, start_str, end_str, \"Pittsburgh\", \"V\")\n",
    "\n",
    "response = requests.get(wprdc_api_endpoint, {'sql': query}, verify=False)\n",
    "\n",
    "df = pd.DataFrame.from_dict(json.loads(response.text)['result']['records'])\n",
    "\n",
    "df"
   ]
  },
  {
   "cell_type": "markdown",
   "metadata": {},
   "source": [
    "### Tasks\n",
    "\n",
    "__Tasks 1 to 4 must be implemented in Task.py__\n",
    "\n",
    "__Task 5 must be implemented in the notebook__\n",
    "\n",
    "__T1) Find top 30 restaurants in Pittsburgh with maximum number of violations (facility name[facility], number of violations[count]).__"
   ]
  },
  {
   "cell_type": "code",
   "execution_count": 4,
   "metadata": {
    "collapsed": true
   },
   "outputs": [],
   "source": []
  },
  {
   "cell_type": "markdown",
   "metadata": {},
   "source": [
    "Lets look more closely into the inspection results of Pitt facilities.\n",
    "\n",
    "__T2) Find the category descriptions and their high, medium, low risk ratings for all violations at facilities that start with 'Pitt' over the past nine months (facility name[facility], violation description[violation], rating[rating], high[high], medium[medium], low[low]).__"
   ]
  },
  {
   "cell_type": "code",
   "execution_count": 4,
   "metadata": {
    "collapsed": true
   },
   "outputs": [],
   "source": []
  },
  {
   "cell_type": "markdown",
   "metadata": {},
   "source": [
    "Now lets look at all facilities that contain word 'Pitt'.\n",
    "\n",
    "__T3) Find the category descriptions and their high, medium, low risk ratings for all violations at all facilities that have word 'Pitt' in their name. Note that results that contain word 'Pitt' as part of another word (e.g. 'Pittsburgh') should not be included (facility name[facility], violation description[violation], rating[rating], high[high], medium[medium], low[low])__"
   ]
  },
  {
   "cell_type": "code",
   "execution_count": 4,
   "metadata": {
    "collapsed": true
   },
   "outputs": [],
   "source": []
  },
  {
   "cell_type": "markdown",
   "metadata": {},
   "source": [
    "__T4) Find top 20 facilities that have word 'Pitt' in their name and have the highest counts of violations (facility name[facility], number of violations[count]).__"
   ]
  },
  {
   "cell_type": "code",
   "execution_count": 4,
   "metadata": {
    "collapsed": true
   },
   "outputs": [],
   "source": []
  }
 ],
 "metadata": {
  "anaconda-cloud": {},
  "kernelspec": {
   "display_name": "Python 3",
   "language": "python",
   "name": "python3"
  },
  "language_info": {
   "codemirror_mode": {
    "name": "ipython",
    "version": 3
   },
   "file_extension": ".py",
   "mimetype": "text/x-python",
   "name": "python",
   "nbconvert_exporter": "python",
   "pygments_lexer": "ipython3",
   "version": "3.8.3"
  }
 },
 "nbformat": 4,
 "nbformat_minor": 1
}